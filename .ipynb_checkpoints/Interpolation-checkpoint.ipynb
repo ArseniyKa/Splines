{
 "cells": [
  {
   "cell_type": "code",
   "execution_count": 1,
   "id": "38dfa16e",
   "metadata": {},
   "outputs": [],
   "source": [
    "import pandas as pd\n",
    "import numpy as np\n",
    "import os\n",
    "\n",
    "import Splines as sp\n",
    "import Parsing as pa\n",
    "\n",
    "import matplotlib.pyplot as plt"
   ]
  },
  {
   "cell_type": "code",
   "execution_count": 2,
   "id": "fbe4ff0f",
   "metadata": {},
   "outputs": [
    {
     "name": "stdout",
     "output_type": "stream",
     "text": [
      "['ceramic_data.txt', 'carbonate_data.txt', 'sandstone_data.txt']\n"
     ]
    }
   ],
   "source": [
    "dirname = \"Data/input\"\n",
    "files = os.listdir(dirname)\n",
    "print(files)\n",
    "\n",
    "spline_number =7\n",
    "coeff_number = 3\n",
    "\n",
    "last_spline_number = 3\n",
    "last_coeff_number = 3\n",
    "\n",
    "discrete_size= 1000\n",
    "\n",
    "settings = pa.Settings(spline_number,coeff_number, discrete_size, \n",
    "last_spline_number,  last_coeff_number )"
   ]
  },
  {
   "cell_type": "code",
   "execution_count": 3,
   "id": "a9f9cb31",
   "metadata": {},
   "outputs": [
    {
     "name": "stdout",
     "output_type": "stream",
     "text": [
      "ceramic_\n",
      "iteration  0\n",
      "iteration  1\n",
      "iteration  2\n",
      "iteration  0\n",
      "iteration  1\n",
      "iteration  2\n",
      "carbonate_\n",
      "iteration  0\n",
      "iteration  1\n",
      "iteration  2\n",
      "iteration  0\n",
      "iteration  1\n",
      "iteration  2\n",
      "sandstone_\n",
      "iteration  0\n",
      "iteration  1\n",
      "iteration  2\n",
      "iteration  0\n",
      "iteration  1\n",
      "iteration  2\n"
     ]
    }
   ],
   "source": [
    "###################################################\n",
    "# pd.set_option(\"display.max.columns\", None)\n",
    "# df = pd.read_excel(\"Dimin_sample.ods\", sheet_name='ceramic1_RPP2')\n",
    "# if not os.path.exists(\"Data\"): os.makedirs(\"Data\")\n",
    "pd.set_option(\"display.max.columns\", None)\n",
    "pd.set_option('display.max_rows', None)\n",
    "\n",
    "\n",
    "            \n",
    "prefix = 'Data/'  \n",
    "for elem in files:\n",
    "        parts = elem.rsplit('_', 2)\n",
    "        type_name = parts[0] + '_'\n",
    "        print(type_name)\n",
    "\n",
    "        df = pd.read_table(dirname + \"/\" +elem, header = None, sep=\" \")\n",
    "        value = pa.checkSeparatedTable(elem, dirname)\n",
    "        if value != 0:\n",
    "            df1 = df.iloc[:value,:]\n",
    "            df2 = df.iloc[value:,:]\n",
    "\n",
    "            ###########################\n",
    "            excel_data = df1.to_numpy()\n",
    "            pa.makeCurves(excel_data, prefix, type_name, str(1), settings)\n",
    "\n",
    "            excel_data = df2.to_numpy()\n",
    "            pa.makeCurves(excel_data, prefix, type_name,  str(2), settings)\n",
    "        else:\n",
    "            excel_data = df.to_numpy()\n",
    "            pa.makeCurves(excel_data, prefix, type_name, str(1), settings)\n",
    "            \n",
    "            \n",
    "\n",
    "\n"
   ]
  },
  {
   "cell_type": "code",
   "execution_count": null,
   "id": "0be79409",
   "metadata": {},
   "outputs": [],
   "source": [
    "# import Extrapolation as ex\n",
    "# pd.set_option(\"display.max.columns\", None)\n",
    "# df = pd.read_excel(\"Dimin_sample.ods\", sheet_name='ceramic1_RPP1')\n",
    "# excel_data = df.to_numpy()\n",
    "\n",
    "# x=excel_data[:,0,]\n",
    "# y=excel_data[:,1]\n",
    "\n",
    "# # print(df)\n",
    "# # print(x)\n",
    "# spline_number =7\n",
    "# coeff_number = 3\n",
    "# last_spline_number = 3\n",
    "# last_coeff_number = 3\n",
    "# discrete_size= 1000\n",
    "\n",
    "\n",
    "# extr_type = ex.ExtrapolatedType.LINEAR\n",
    "# curve_type =  sp.CurveType.PERMEABILITY1\n",
    "# begin = 0\n",
    "# end = 1\n",
    "\n",
    "# spl = sp.Splines(x,y, spline_number, coeff_number,\n",
    "# discrete_size, begin, end, last_spline_number, last_coeff_number, extr_type, curve_type)\n",
    "\n",
    "\n",
    "# all_coeff_matrix = spl.calculateCoefficients()\n",
    "# print(spl.size)\n",
    "# all_splines = spl.createSplines()\n",
    "   \n",
    "    \n",
    "# ################################################ MAKE PLOTS    \n",
    "# temp = all_splines[0][0]\n",
    "# splines =all_splines[0][1]\n",
    "# print (splines)\n",
    "# plt.plot(temp, splines, \"b\", linewidth=2)\n",
    "# plt.plot(x, y, 'bo')\n",
    "# plt.grid(True)\n",
    "# plt.show()\n"
   ]
  },
  {
   "cell_type": "code",
   "execution_count": null,
   "id": "8e5c818d",
   "metadata": {},
   "outputs": [],
   "source": []
  }
 ],
 "metadata": {
  "kernelspec": {
   "display_name": "Python 3 (ipykernel)",
   "language": "python",
   "name": "python3"
  },
  "language_info": {
   "codemirror_mode": {
    "name": "ipython",
    "version": 3
   },
   "file_extension": ".py",
   "mimetype": "text/x-python",
   "name": "python",
   "nbconvert_exporter": "python",
   "pygments_lexer": "ipython3",
   "version": "3.8.10"
  }
 },
 "nbformat": 4,
 "nbformat_minor": 5
}
