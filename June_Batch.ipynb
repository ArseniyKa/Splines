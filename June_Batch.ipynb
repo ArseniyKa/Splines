{
 "cells": [
  {
   "cell_type": "code",
   "execution_count": 4,
   "id": "38dfa16e",
   "metadata": {},
   "outputs": [],
   "source": [
    "import pandas as pd\n",
    "import numpy as np\n",
    "import os\n",
    "\n",
    "import June_Splines as sp\n",
    "import June_Parsing as pa\n",
    "\n",
    "import matplotlib.pyplot as plt"
   ]
  },
  {
   "cell_type": "code",
   "execution_count": 5,
   "id": "fbe4ff0f",
   "metadata": {},
   "outputs": [
    {
     "name": "stdout",
     "output_type": "stream",
     "text": [
      "['ceramic_data.txt', 'carbonate_data.txt', 'sandstone_data.txt']\n",
      "ok\n"
     ]
    }
   ],
   "source": [
    "dirname = \"Data/input\"\n",
    "files = os.listdir(dirname)\n",
    "print(files)\n",
    "\n",
    "spline_number =7\n",
    "coeff_number = 3\n",
    "\n",
    "last_spline_number = 3\n",
    "last_coeff_number = 3\n",
    "\n",
    "discrete_size= 1000\n",
    "\n",
    "settings = pa.Settings(spline_number,coeff_number, discrete_size, \n",
    "last_spline_number,  last_coeff_number )\n",
    "print(\"ok\")"
   ]
  },
  {
   "cell_type": "code",
   "execution_count": null,
   "id": "a9f9cb31",
   "metadata": {},
   "outputs": [
    {
     "name": "stdout",
     "output_type": "stream",
     "text": [
      "ceramic_\n",
      "iteration  0\n"
     ]
    }
   ],
   "source": [
    "###################################################\n",
    "# pd.set_option(\"display.max.columns\", None)\n",
    "# df = pd.read_excel(\"Dimin_sample.ods\", sheet_name='ceramic1_RPP2')\n",
    "# if not os.path.exists(\"Data\"): os.makedirs(\"Data\")\n",
    "pd.set_option(\"display.max.columns\", None)\n",
    "pd.set_option('display.max_rows', None)\n",
    "\n",
    "\n",
    "            \n",
    "prefix = 'Data/'  \n",
    "for elem in files:\n",
    "        parts = elem.rsplit('_', 2)\n",
    "        type_name = parts[0] + '_'\n",
    "        print(type_name)\n",
    "\n",
    "        df = pd.read_table(dirname + \"/\" +elem, header = None, sep=\" \")\n",
    "        value = pa.checkSeparatedTable(elem, dirname)\n",
    "        if value != 0:\n",
    "            df1 = df.iloc[:value,:]\n",
    "            df2 = df.iloc[value:,:]\n",
    "\n",
    "            ###########################\n",
    "            excel_data = df1.to_numpy()\n",
    "            pa.makeCurves(excel_data, prefix, type_name, str(1), settings)\n",
    "\n",
    "            excel_data = df2.to_numpy()\n",
    "            pa.makeCurves(excel_data, prefix, type_name,  str(2), settings)\n",
    "        else:\n",
    "            excel_data = df.to_numpy()\n",
    "            pa.makeCurves(excel_data, prefix, type_name, str(1), settings)\n",
    "            \n",
    "            \n",
    "\n",
    "\n"
   ]
  },
  {
   "cell_type": "code",
   "execution_count": null,
   "id": "8e5c818d",
   "metadata": {},
   "outputs": [],
   "source": []
  }
 ],
 "metadata": {
  "kernelspec": {
   "display_name": "Python 3 (ipykernel)",
   "language": "python",
   "name": "python3"
  },
  "language_info": {
   "codemirror_mode": {
    "name": "ipython",
    "version": 3
   },
   "file_extension": ".py",
   "mimetype": "text/x-python",
   "name": "python",
   "nbconvert_exporter": "python",
   "pygments_lexer": "ipython3",
   "version": "3.8.10"
  }
 },
 "nbformat": 4,
 "nbformat_minor": 5
}
