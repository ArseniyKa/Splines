{
 "cells": [
  {
   "cell_type": "code",
   "execution_count": 13,
   "id": "38dfa16e",
   "metadata": {},
   "outputs": [],
   "source": [
    "import pandas as pd\n",
    "import numpy as np\n",
    "from numpy import linalg as LA\n",
    "import os\n",
    "\n",
    "import Approximation as ap\n",
    "import Extrapolation as ex\n",
    "import Splines as sp\n",
    "\n",
    "import matplotlib.pyplot as plt"
   ]
  },
  {
   "cell_type": "code",
   "execution_count": 14,
   "id": "62cd7b11",
   "metadata": {},
   "outputs": [],
   "source": [
    "def splineStep(x, y, curve_type, name ):\n",
    "    spline_number =7\n",
    "    coeff_number = 3\n",
    "\n",
    "    last_spline_number = 3\n",
    "    last_coeff_number = 3\n",
    "\n",
    "    discrete_size= 1000\n",
    "    begin = 1\n",
    "    end = np.min(x) * 0.99 \n",
    "    \n",
    "    extr_type = sp.ExtrapolatedType.LINEAR\n",
    " #######################################################\n",
    "\n",
    "\n",
    "    spl = sp.Splines(x,y, spline_number, coeff_number,\n",
    "discrete_size, begin, end, last_spline_number, last_coeff_number, extr_type, curve_type)\n",
    "    all_coeff_matrix = spl.calculateAllCoefficients()\n",
    "    all_splines = spl.createSplines()\n",
    "    \n",
    "################################################ MAKE PLOTS    \n",
    "    temp = all_splines[0][0]\n",
    "    splines =all_splines[0][1]\n",
    "    plt.figure()\n",
    "    plt.plot(temp, splines, \"b\", linewidth=2)\n",
    "\n",
    "\n",
    "    if last_spline_number >1 and curve_type == sp.CurveType.SATURATION1:\n",
    "        last_temp = all_splines[1][0]\n",
    "        last_splines = all_splines[1][1]\n",
    "        plt.plot(last_temp, last_splines, \"c\", linewidth=2)\n",
    "\n",
    "\n",
    "    if extr_type != sp.ExtrapolatedType.NEITHER and curve_type == sp.CurveType.SATURATION1:\n",
    "        extr_temp =all_splines[-1][0]\n",
    "        extr_spline = all_splines[-1][1]\n",
    "        plt.plot(extr_temp, extr_spline, \"r\", linewidth=2)\n",
    "\n",
    "#     plt.figure(figsize=(10,10))\n",
    "   \n",
    "    plt.plot(x, y, 'bo')\n",
    "    plt.grid(True)\n",
    "    plt.savefig(name + '.png')\n",
    "#     plt.show()\n",
    "    plt.close()\n",
    "    "
   ]
  },
  {
   "cell_type": "code",
   "execution_count": 15,
   "id": "dbc61e50",
   "metadata": {},
   "outputs": [],
   "source": [
    "def makeCurves(excel_data, prefix, folder_name):\n",
    "    for i in range(3):\n",
    "        if i==0:\n",
    "            x=excel_data[:,2]\n",
    "            y=excel_data[:,0]\n",
    "            curve_type = sp.CurveType.SATURATION1\n",
    "            name =prefix + folder_name+ '_saturation1'\n",
    "\n",
    "        elif i==1:\n",
    "            x=excel_data[:,2]\n",
    "            y=excel_data[:,4] \n",
    "            curve_type = sp.CurveType.PERMEABILITY1\n",
    "            name =prefix +  folder_name+ '_permeability1'\n",
    "\n",
    "        else:\n",
    "            x=excel_data[:,2]\n",
    "            y=excel_data[:,3]\n",
    "            curve_type = sp.CurveType.PERMEABILITY2\n",
    "            name =prefix + folder_name+ '_permeability2'\n",
    "\n",
    "        splineStep(x,y, curve_type, name)"
   ]
  },
  {
   "cell_type": "code",
   "execution_count": 16,
   "id": "a9f9cb31",
   "metadata": {},
   "outputs": [
    {
     "name": "stdout",
     "output_type": "stream",
     "text": [
      "Data/ceramic/Data1/\n"
     ]
    },
    {
     "ename": "AttributeError",
     "evalue": "module 'Splines' has no attribute 'ExtrapolatedType'",
     "output_type": "error",
     "traceback": [
      "\u001b[0;31m---------------------------------------------------------------------------\u001b[0m",
      "\u001b[0;31mAttributeError\u001b[0m                            Traceback (most recent call last)",
      "\u001b[0;32m/tmp/ipykernel_254249/552605845.py\u001b[0m in \u001b[0;36m<module>\u001b[0;34m\u001b[0m\n\u001b[1;32m     20\u001b[0m \u001b[0mprefix\u001b[0m \u001b[0;34m=\u001b[0m\u001b[0;34m\"Data/\"\u001b[0m \u001b[0;34m+\u001b[0m \u001b[0mfolder_name\u001b[0m \u001b[0;34m+\u001b[0m \u001b[0;34m\"/Data1/\"\u001b[0m\u001b[0;34m\u001b[0m\u001b[0;34m\u001b[0m\u001b[0m\n\u001b[1;32m     21\u001b[0m \u001b[0mprint\u001b[0m\u001b[0;34m(\u001b[0m\u001b[0mprefix\u001b[0m\u001b[0;34m)\u001b[0m\u001b[0;34m\u001b[0m\u001b[0;34m\u001b[0m\u001b[0m\n\u001b[0;32m---> 22\u001b[0;31m \u001b[0mmakeCurves\u001b[0m\u001b[0;34m(\u001b[0m\u001b[0mexcel_data\u001b[0m\u001b[0;34m,\u001b[0m \u001b[0mprefix\u001b[0m\u001b[0;34m,\u001b[0m \u001b[0mfolder_name\u001b[0m\u001b[0;34m)\u001b[0m\u001b[0;34m\u001b[0m\u001b[0;34m\u001b[0m\u001b[0m\n\u001b[0m\u001b[1;32m     23\u001b[0m \u001b[0;34m\u001b[0m\u001b[0m\n\u001b[1;32m     24\u001b[0m \u001b[0mexcel_data\u001b[0m \u001b[0;34m=\u001b[0m \u001b[0mdf2\u001b[0m\u001b[0;34m.\u001b[0m\u001b[0mto_numpy\u001b[0m\u001b[0;34m(\u001b[0m\u001b[0;34m)\u001b[0m\u001b[0;34m\u001b[0m\u001b[0;34m\u001b[0m\u001b[0m\n",
      "\u001b[0;32m/tmp/ipykernel_254249/2944210783.py\u001b[0m in \u001b[0;36mmakeCurves\u001b[0;34m(excel_data, prefix, folder_name)\u001b[0m\n\u001b[1;32m     19\u001b[0m             \u001b[0mname\u001b[0m \u001b[0;34m=\u001b[0m\u001b[0mprefix\u001b[0m \u001b[0;34m+\u001b[0m \u001b[0mfolder_name\u001b[0m\u001b[0;34m+\u001b[0m \u001b[0;34m'_permeability2'\u001b[0m\u001b[0;34m\u001b[0m\u001b[0;34m\u001b[0m\u001b[0m\n\u001b[1;32m     20\u001b[0m \u001b[0;34m\u001b[0m\u001b[0m\n\u001b[0;32m---> 21\u001b[0;31m         \u001b[0msplineStep\u001b[0m\u001b[0;34m(\u001b[0m\u001b[0mx\u001b[0m\u001b[0;34m,\u001b[0m\u001b[0my\u001b[0m\u001b[0;34m,\u001b[0m \u001b[0mcurve_type\u001b[0m\u001b[0;34m,\u001b[0m \u001b[0mname\u001b[0m\u001b[0;34m)\u001b[0m\u001b[0;34m\u001b[0m\u001b[0;34m\u001b[0m\u001b[0m\n\u001b[0m",
      "\u001b[0;32m/tmp/ipykernel_254249/878666462.py\u001b[0m in \u001b[0;36msplineStep\u001b[0;34m(x, y, curve_type, name)\u001b[0m\n\u001b[1;32m     10\u001b[0m     \u001b[0mend\u001b[0m \u001b[0;34m=\u001b[0m \u001b[0mnp\u001b[0m\u001b[0;34m.\u001b[0m\u001b[0mmin\u001b[0m\u001b[0;34m(\u001b[0m\u001b[0mx\u001b[0m\u001b[0;34m)\u001b[0m \u001b[0;34m*\u001b[0m \u001b[0;36m0.99\u001b[0m\u001b[0;34m\u001b[0m\u001b[0;34m\u001b[0m\u001b[0m\n\u001b[1;32m     11\u001b[0m \u001b[0;34m\u001b[0m\u001b[0m\n\u001b[0;32m---> 12\u001b[0;31m     \u001b[0mextr_type\u001b[0m \u001b[0;34m=\u001b[0m \u001b[0msp\u001b[0m\u001b[0;34m.\u001b[0m\u001b[0mExtrapolatedType\u001b[0m\u001b[0;34m.\u001b[0m\u001b[0mLINEAR\u001b[0m\u001b[0;34m\u001b[0m\u001b[0;34m\u001b[0m\u001b[0m\n\u001b[0m\u001b[1;32m     13\u001b[0m  \u001b[0;31m#######################################################\u001b[0m\u001b[0;34m\u001b[0m\u001b[0;34m\u001b[0m\u001b[0;34m\u001b[0m\u001b[0m\n\u001b[1;32m     14\u001b[0m \u001b[0;34m\u001b[0m\u001b[0m\n",
      "\u001b[0;31mAttributeError\u001b[0m: module 'Splines' has no attribute 'ExtrapolatedType'"
     ]
    }
   ],
   "source": [
    "###################################################\n",
    "# pd.set_option(\"display.max.columns\", None)\n",
    "# df = pd.read_excel(\"Dimin_sample.ods\", sheet_name='ceramic1_RPP2')\n",
    "folder_name = \"ceramic\"\n",
    "# if not os.path.exists(\"Data\"): os.makedirs(\"Data\")\n",
    "# if not os.path.exists(\"Data/\" + folder_name): os.makedirs(\"Data/\" + folder_name)\n",
    "# if not os.path.exists(\"Data/\" + folder_name+ \"/Data1\"): os.makedirs(\"Data/\" + folder_name+ \"/Data1\")\n",
    "# if not os.path.exists(\"Data/\" + folder_name+ \"/Data2\"): os.makedirs(\"Data/\" + folder_name+ \"/Data2\")\n",
    "# os.mkdir(\"Data\")\n",
    "\n",
    "pd.set_option(\"display.max.columns\", None)\n",
    "pd.set_option('display.max_rows', None)\n",
    "df = pd.read_table(r'ceramic_data.txt',header=None,sep=r\"\\s+\")\n",
    "df1 = df.iloc[:54,:]\n",
    "df2 = df.iloc[54:,:]\n",
    "# excel_data2 = df1.to_numpy()\n",
    "\n",
    "#######\n",
    "excel_data = df1.to_numpy()\n",
    "prefix =\"Data/\" + folder_name + \"/Data1/\"\n",
    "print(prefix)\n",
    "makeCurves(excel_data, prefix, folder_name)\n",
    "\n",
    "excel_data = df2.to_numpy()\n",
    "prefix = \"Data/\" + folder_name + \"/Data2/\"\n",
    "makeCurves(excel_data, prefix, folder_name)\n",
    "\n",
    "\n",
    "\n",
    "\n",
    "\n",
    "\n"
   ]
  },
  {
   "cell_type": "code",
   "execution_count": null,
   "id": "9cfe2eb8",
   "metadata": {},
   "outputs": [],
   "source": []
  }
 ],
 "metadata": {
  "kernelspec": {
   "display_name": "Python 3 (ipykernel)",
   "language": "python",
   "name": "python3"
  },
  "language_info": {
   "codemirror_mode": {
    "name": "ipython",
    "version": 3
   },
   "file_extension": ".py",
   "mimetype": "text/x-python",
   "name": "python",
   "nbconvert_exporter": "python",
   "pygments_lexer": "ipython3",
   "version": "3.8.10"
  }
 },
 "nbformat": 4,
 "nbformat_minor": 5
}
