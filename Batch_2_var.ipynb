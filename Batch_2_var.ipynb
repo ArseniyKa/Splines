{
 "cells": [
  {
   "cell_type": "code",
   "execution_count": 1,
   "id": "38dfa16e",
   "metadata": {},
   "outputs": [],
   "source": [
    "import pandas as pd\n",
    "import numpy as np\n",
    "from numpy import linalg as LA\n",
    "import os\n",
    "\n",
    "import Approximation as ap\n",
    "import Extrapolation as ex\n",
    "import Splines as sp\n",
    "\n",
    "import matplotlib.pyplot as plt"
   ]
  },
  {
   "cell_type": "code",
   "execution_count": 2,
   "id": "a9f9cb31",
   "metadata": {},
   "outputs": [
    {
     "name": "stdout",
     "output_type": "stream",
     "text": [
      "self.last_spline_number 3\n",
      "12\n",
      "all_coeff_matrix\n",
      " [array([-680549.95139556, 1536485.88247752, -855935.93108196]), array([ 31924.33519906, -66495.9121157 ,  45693.3214202 ]), array([ 43060.3718728 , -95127.95041142,  64097.39193887]), array([-10264.4502927 ,  64812.45218607, -55832.36752498]), array([ 26080.62765825, -65985.25703566,  61845.47017794]), array([11944.53566732, -2406.69527505, -9642.3483461 ]), array([ 15651.01267612, -24626.62783846,  23659.18043378]), array([ 21973.99881593, -81448.78972556, 151318.72333533]), array([  23251.46135032, -104365.02462577,  254091.56556494]), array([  30324.29712714, -294320.18054595, 1529498.00787479]), array([  101852.28063105, -4114522.95508261, 52537329.22186743]), array([  101842.74827345, -4069765.62676603])]\n"
     ]
    }
   ],
   "source": [
    "###################################################\n",
    "pd.set_option(\"display.max.columns\", None)\n",
    "df = pd.read_excel(\"Dimin_sample.ods\", sheet_name='ceramic1')\n",
    "\n",
    "#######\n",
    "excel_data = df.to_numpy()\n",
    "x=excel_data[:,0]\n",
    "y=excel_data[:,1]\n",
    "\n",
    "######################################\n",
    "spline_number =9\n",
    "coeff_number = 3\n",
    "discrete_size= 1000\n",
    "\n",
    "begin = 1\n",
    "end = np.min(x) * 0.99 \n",
    "\n",
    "#######################################################\n",
    "last_spline_number = 3\n",
    "last_coeff_number = 3\n",
    "\n",
    "extr_type = sp.ExtrapolatedType.LINEAR\n",
    "curve_type = sp.CurveType.SATURATION1\n",
    "\n",
    "spl = sp.Splines(x,y, spline_number, coeff_number,\n",
    "discrete_size, begin, end, last_spline_number, last_coeff_number, extr_type, curve_type)\n",
    "\n",
    "all_coeff_matrix = spl.calculateAllCoefficients()\n",
    "print(len(all_coeff_matrix))\n",
    "print(\"all_coeff_matrix\\n\", all_coeff_matrix)\n",
    "\n",
    "# print(\"last\\n\", spl.last_coeff_matrix)\n"
   ]
  },
  {
   "cell_type": "code",
   "execution_count": 3,
   "id": "0512e791",
   "metadata": {},
   "outputs": [
    {
     "name": "stdout",
     "output_type": "stream",
     "text": [
      "3\n"
     ]
    }
   ],
   "source": [
    "################################################ MAKE PLOTS\n",
    "######################################## CREATE SPLINES \n",
    "all_splines = spl.createSplines()\n",
    "print(len(all_splines))\n",
    "\n",
    "temp = all_splines[0][0]\n",
    "splines =all_splines[0][1]\n",
    "plt.plot(temp, splines, \"b\", linewidth=2)\n",
    "# print(\"temp\\n\",temp)\n",
    "\n",
    "if last_spline_number >1 and curve_type == sp.CurveType.SATURATION1:\n",
    "    last_temp = all_splines[1][0]\n",
    "    last_splines = all_splines[1][1]\n",
    "    plt.plot(last_temp, last_splines, \"y\", linewidth=2)\n",
    "\n",
    "\n",
    "if extr_type != sp.ExtrapolatedType.NEITHER and curve_type == sp.CurveType.SATURATION1:\n",
    "    extr_temp =all_splines[-1][0]\n",
    "    extr_spline = all_splines[-1][1]\n",
    "    plt.plot(extr_temp, extr_spline, \"r\", linewidth=2)\n",
    "# print(\"splines\",splines)\n",
    "\n",
    "plt.plot(x, y, 'bo')\n",
    "plt.grid(True)\n",
    "plt.show()\n"
   ]
  },
  {
   "cell_type": "code",
   "execution_count": 4,
   "id": "572e0810",
   "metadata": {},
   "outputs": [],
   "source": [
    "# pd.set_option(\"display.max.columns\", None)\n",
    "# pd.set_option('display.max_rows', None)\n",
    "# df4 = pd.read_table(r'ceramic_data.txt',header=None,sep=r\"\\s+\")\n",
    "# # df1 = df4.iloc[:, :54]\n",
    "# df1 = df4.iloc[:54,:]\n",
    "# df2 = df4.iloc[54:,:]\n",
    "# excel_data2 = df1.to_numpy()\n",
    "\n",
    "# #\n",
    "# yy=excel_data2[:,0]\n",
    "# xx=excel_data2[:,2]\n",
    "# print(yy)\n",
    "\n",
    "# if not os.path.exists(\"Data\"): os.makedirs(\"Data\")\n",
    "# # os.mkdir(\"Data\")\n",
    "# plt.plot(xx, yy, 'bo')\n",
    "# plt.grid(True)\n",
    "# plt.savefig('Data/saved_figure.png', dpi=100)\n",
    "# plt.show()"
   ]
  },
  {
   "cell_type": "code",
   "execution_count": null,
   "id": "9cfe2eb8",
   "metadata": {},
   "outputs": [],
   "source": []
  }
 ],
 "metadata": {
  "kernelspec": {
   "display_name": "Python 3 (ipykernel)",
   "language": "python",
   "name": "python3"
  },
  "language_info": {
   "codemirror_mode": {
    "name": "ipython",
    "version": 3
   },
   "file_extension": ".py",
   "mimetype": "text/x-python",
   "name": "python",
   "nbconvert_exporter": "python",
   "pygments_lexer": "ipython3",
   "version": "3.8.10"
  }
 },
 "nbformat": 4,
 "nbformat_minor": 5
}
